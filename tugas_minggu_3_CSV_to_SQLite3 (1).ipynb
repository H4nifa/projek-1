{
  "nbformat": 4,
  "nbformat_minor": 0,
  "metadata": {
    "colab": {
      "name": "tugas minggu 3 CSV_to_SQLite3.ipynb",
      "provenance": [],
      "collapsed_sections": []
    },
    "kernelspec": {
      "name": "python3",
      "display_name": "Python 3"
    }
  },
  "cells": [
    {
      "cell_type": "markdown",
      "metadata": {
        "id": "LaQfnCauxig4"
      },
      "source": [
        "![]( https://docs.google.com/uc?export=download&id=1oKIi5t0GlSKAoPTIt1f-DcOu0GcYHDD4)"
      ]
    },
    {
      "cell_type": "code",
      "metadata": {
        "id": "kI6bBdJRFriD",
        "colab": {
          "base_uri": "https://localhost:8080/"
        },
        "outputId": "c4111cb8-76d1-48a3-9fcf-f1f011a8e98e"
      },
      "source": [
        "# Rencana Pembelajaran FGA Big Using Python Kelas B\n",
        "# Fakultas Ilmu Komputer (Filkom), Universitas Brawijaya (UB) 2021\n",
        "# Instruktur: Imam Cholissodin, S.Si., M.Kom. | email: imamcs@ub.ac.id\n",
        "# Link Free Buku Ajar tentang \"Big Data Dengan Java/Scala/Python\" dari saya: http://bit.ly/2FMLnfw\n",
        "# Tgl 22 Juli 2021\n",
        "# =====================================================================\n",
        "# Kolaborasi Instruktur Filkom x Mipa UB 2021\n",
        "# Di Bawah Naungan Kominfo Pusat x Cisco x AWS x lainnya dlm FGA\n",
        "# =====================================================================\n",
        "\n",
        "# Asisten Kelas B: Yonas Asmara\n",
        "\n",
        "# Jumlah Peserta: 27 Orang\n",
        "# Link Materi & Tugas FGA Big Using Python Kelas B: https://bit.ly/3wRG6ux \n",
        "\n",
        "# Big Thank to Pak Guntur sebagai Instruktur ToT Big Data Using Python di Kominfo (link github beliau, https://bit.ly/3kxaV5d )\n",
        "# Matursuwun sanged Pak Guntur atas ilmu dan share materinya\n",
        "# Monggo berkunjung juga ke materi Big Data dari github saya di https://bit.ly/3Bsg5Wi :D\n",
        "\n",
        "from google.colab import drive\n",
        "drive.mount('/content/drive')"
      ],
      "execution_count": null,
      "outputs": [
        {
          "output_type": "stream",
          "text": [
            "Mounted at /content/drive\n"
          ],
          "name": "stdout"
        }
      ]
    },
    {
      "cell_type": "markdown",
      "metadata": {
        "id": "8PREBNXwyPwA"
      },
      "source": [
        "# Materi Pembelajaran\n",
        "\n",
        "* Library Session 2 (Flask) \n",
        "> * Apa itu Flask (Web base)\n",
        "> * Komparasi Flask vs Django\n",
        "* Apa itu SSH, Reverse SSH Tunneling dengan Ngrok dan Bagaimana membuat seperti Ngrok secara mandiri Ref. https://bit.ly/3llL4O5 dari github saya.\n",
        "![]( https://docs.google.com/uc?export=download&id=1reE4xX0bzOHPTqIpbXWZagnv3nJbbTfM)\n",
        "\n",
        "* Flask x SQLite pada Google Colab base Tunneling dengan Ngrok\n",
        "* Diskusi: Flask vs Django utk Big Data Apps"
      ]
    },
    {
      "cell_type": "code",
      "metadata": {
        "id": "pRNMBgIcF0_x",
        "colab": {
          "base_uri": "https://localhost:8080/"
        },
        "outputId": "66577cab-cfc6-47ef-9c74-52ca40f45394"
      },
      "source": [
        "import os\n",
        "os.chdir(\"/content/drive/My Drive\")\n",
        "path = \"Cisco Big Data Using Python 2021/FGA Big Data Using Python - Kelas B - utk Peserta/Sesi 1 - 25 Python\"\n",
        "if not os.path.exists(path):\n",
        "    os.makedirs(path)\n",
        "os.chdir(\"/content/drive/My Drive/Cisco Big Data Using Python 2021/FGA Big Data Using Python - Kelas B - utk Peserta/Sesi 1 - 25 Python\")\n",
        "if not os.path.exists(\"images\"):\n",
        "  !wget --load-cookies /tmp/cookies.txt \"https://docs.google.com/uc?export=download&confirm=$(wget --quiet --save-cookies /tmp/cookies.txt --keep-session-cookies --no-check-certificate 'https://docs.google.com/uc?export=download&id=1-A9hoqmtpKWBAu_QjyqUxpcuBXkJ-Gk8' -O- | sed -rn 's/.*confirm=([0-9A-Za-z_]+).*/\\1\\n/p')&id=1-A9hoqmtpKWBAu_QjyqUxpcuBXkJ-Gk8\" -O 'images.tar' && rm -rf /tmp/cookies.txt\n",
        "  !tar -xv -C './' -f './images.tar'\n",
        "\n",
        "!pwd\n",
        "!ls -l -a --block-size=K"
      ],
      "execution_count": null,
      "outputs": [
        {
          "output_type": "stream",
          "text": [
            "/content/drive/My Drive/Cisco Big Data Using Python 2021/FGA Big Data Using Python - Kelas B - utk Peserta/Sesi 1 - 25 Python\n",
            "total 579K\n",
            "-rw------- 1 root root   1K Jul 31 04:20 Data_Generate_Klas.csv\n",
            "drwx------ 2 root root   4K Aug  4 01:58 flask-sqlite\n",
            "drwx------ 2 root root   4K Jul 20 09:59 images\n",
            "-rw------- 1 root root 570K Jul 28 01:24 images.tar\n"
          ],
          "name": "stdout"
        }
      ]
    },
    {
      "cell_type": "code",
      "metadata": {
        "id": "wA8w1-peF3d1"
      },
      "source": [
        "os.chdir(\"/content/drive/My Drive/Cisco Big Data Using Python 2021/FGA Big Data Using Python - Kelas B - utk Peserta/Sesi 1 - 25 Python/flask-sqlite/csv2sqlite\")"
      ],
      "execution_count": null,
      "outputs": []
    },
    {
      "cell_type": "code",
      "metadata": {
        "colab": {
          "base_uri": "https://localhost:8080/"
        },
        "id": "ILDDxKwx5OWa",
        "outputId": "b911f69f-f9a7-47b3-dc2a-27b27fdd16e0"
      },
      "source": [
        "!pwd"
      ],
      "execution_count": null,
      "outputs": [
        {
          "output_type": "stream",
          "text": [
            "/content/drive/My Drive/Cisco Big Data Using Python 2021/FGA Big Data Using Python - Kelas B - utk Peserta/Sesi 1 - 25 Python/flask-sqlite/csv2sqlite\n"
          ],
          "name": "stdout"
        }
      ]
    },
    {
      "cell_type": "markdown",
      "metadata": {
        "id": "dHaT0qjDVhjX"
      },
      "source": [
        "# Intro"
      ]
    },
    {
      "cell_type": "code",
      "metadata": {
        "id": "3xzFcTDJQZ5D",
        "colab": {
          "base_uri": "https://localhost:8080/"
        },
        "outputId": "fb307eac-f65d-4ace-eecf-93a11adccc74"
      },
      "source": [
        "!pip install db-sqlite3"
      ],
      "execution_count": 39,
      "outputs": [
        {
          "output_type": "stream",
          "text": [
            "Requirement already satisfied: db-sqlite3 in /usr/local/lib/python3.7/dist-packages (0.0.1)\n",
            "Requirement already satisfied: db in /usr/local/lib/python3.7/dist-packages (from db-sqlite3) (0.1.1)\n",
            "Requirement already satisfied: antiorm in /usr/local/lib/python3.7/dist-packages (from db->db-sqlite3) (1.2.1)\n"
          ],
          "name": "stdout"
        }
      ]
    },
    {
      "cell_type": "code",
      "metadata": {
        "id": "G6sqzP_tJIEe"
      },
      "source": [
        "import pandas as pd\n",
        "import sqlite3\n",
        "from datetime import date"
      ],
      "execution_count": 40,
      "outputs": []
    },
    {
      "cell_type": "code",
      "metadata": {
        "id": "mlehKdxUJSz-"
      },
      "source": [
        "#connecting with the database.\n",
        "db = sqlite3.connect(\"fga_big_data.db\")\n",
        "db.execute(\"drop table if exists dataset\") # next data Min. 30 dari case Anda\n",
        "try:\n",
        "  db.execute(\"create table dataset(sensor_LDR text, sensor_proximity_kapasitif text, sensor_proximity_Induktif text, sensor_ph text, sensor_mq135 text,Pemilah_Sampah text)\")\n",
        "except:\n",
        "  print(\"Already table existed !!\")"
      ],
      "execution_count": 43,
      "outputs": []
    },
    {
      "cell_type": "code",
      "metadata": {
        "id": "6wWnSqtNKXUq"
      },
      "source": [
        "# Coba membuat 1 data utk tabel dataset, lalu dimasukkan dalam fga_big_data.db\n",
        "\n",
        "Sensor_LDR = \"151\"\n",
        "sensor_proximity_kapasitif = \"191\"\n",
        "sensor_proximity_Induktif = \"142\"\n",
        "sensor_ph = \"1\"\n",
        "sensor_mq135 = \"281\"\n",
        "Pemilah_Sampah = \"RDF\"\n",
        "\n"
      ],
      "execution_count": 44,
      "outputs": []
    },
    {
      "cell_type": "code",
      "metadata": {
        "id": "Hjz8_W4WJjH2"
      },
      "source": [
        "cmd = \"insert into dataset(Sensor_LDR,sensor_proximity_kapasitif, sensor_proximity_Induktif,sensor_ph,sensor_mq135,Pemilah_Sampah) values('{}','{}','{}','{}','{}','{}')\".format(Sensor_LDR,sensor_proximity_kapasitif, sensor_proximity_Induktif ,sensor_ph,sensor_mq135, Pemilah_Sampah)\n",
        "db.execute(cmd)\n",
        "db.commit()\n"
      ],
      "execution_count": 46,
      "outputs": []
    },
    {
      "cell_type": "markdown",
      "metadata": {
        "id": "tc_glreoVTcB"
      },
      "source": [
        "# Querying"
      ]
    },
    {
      "cell_type": "markdown",
      "metadata": {
        "id": "eJG6fARCRihM"
      },
      "source": [
        "### Type - 1 Querying\n"
      ]
    },
    {
      "cell_type": "code",
      "metadata": {
        "id": "FB1zxYVmRnj2",
        "colab": {
          "base_uri": "https://localhost:8080/"
        },
        "outputId": "7c9e8b15-85ba-4c73-83d5-3a97cbbaab87"
      },
      "source": [
        "db = sqlite3.connect(\"fga_big_data.db\")\n",
        "rs = db.execute('SELECT * FROM dataset')\n",
        "for row in rs:\n",
        "    print (row)"
      ],
      "execution_count": 47,
      "outputs": [
        {
          "output_type": "stream",
          "text": [
            "('151', '191', '142', '1', '281', 'RDF')\n",
            "('151', '191', '142', '1', '281', 'RDF')\n"
          ],
          "name": "stdout"
        }
      ]
    },
    {
      "cell_type": "markdown",
      "metadata": {
        "id": "gBb1T3W2R2T9"
      },
      "source": [
        "### Type - 2 Querying\n"
      ]
    },
    {
      "cell_type": "code",
      "metadata": {
        "id": "QsaSr2oJJpz8",
        "colab": {
          "base_uri": "https://localhost:8080/",
          "height": 112
        },
        "outputId": "83f92368-40de-41ef-98de-8d6482b6d464"
      },
      "source": [
        "db = sqlite3.connect(\"fga_big_data.db\")\n",
        "qry = \"\"\"\n",
        "\n",
        "SELECT * FROM dataset\n",
        "\n",
        "\"\"\"\n",
        "df = pd.read_sql_query(qry, db)\n",
        "df.head()"
      ],
      "execution_count": 48,
      "outputs": [
        {
          "output_type": "execute_result",
          "data": {
            "text/html": [
              "<div>\n",
              "<style scoped>\n",
              "    .dataframe tbody tr th:only-of-type {\n",
              "        vertical-align: middle;\n",
              "    }\n",
              "\n",
              "    .dataframe tbody tr th {\n",
              "        vertical-align: top;\n",
              "    }\n",
              "\n",
              "    .dataframe thead th {\n",
              "        text-align: right;\n",
              "    }\n",
              "</style>\n",
              "<table border=\"1\" class=\"dataframe\">\n",
              "  <thead>\n",
              "    <tr style=\"text-align: right;\">\n",
              "      <th></th>\n",
              "      <th>sensor_LDR</th>\n",
              "      <th>sensor_proximity_kapasitif</th>\n",
              "      <th>sensor_proximity_Induktif</th>\n",
              "      <th>sensor_ph</th>\n",
              "      <th>sensor_mq135</th>\n",
              "      <th>Pemilah_Sampah</th>\n",
              "    </tr>\n",
              "  </thead>\n",
              "  <tbody>\n",
              "    <tr>\n",
              "      <th>0</th>\n",
              "      <td>151</td>\n",
              "      <td>191</td>\n",
              "      <td>142</td>\n",
              "      <td>1</td>\n",
              "      <td>281</td>\n",
              "      <td>RDF</td>\n",
              "    </tr>\n",
              "    <tr>\n",
              "      <th>1</th>\n",
              "      <td>151</td>\n",
              "      <td>191</td>\n",
              "      <td>142</td>\n",
              "      <td>1</td>\n",
              "      <td>281</td>\n",
              "      <td>RDF</td>\n",
              "    </tr>\n",
              "  </tbody>\n",
              "</table>\n",
              "</div>"
            ],
            "text/plain": [
              "  sensor_LDR sensor_proximity_kapasitif  ... sensor_mq135 Pemilah_Sampah\n",
              "0        151                        191  ...          281            RDF\n",
              "1        151                        191  ...          281            RDF\n",
              "\n",
              "[2 rows x 6 columns]"
            ]
          },
          "metadata": {
            "tags": []
          },
          "execution_count": 48
        }
      ]
    },
    {
      "cell_type": "markdown",
      "metadata": {
        "id": "DRgujp1WVJ5i"
      },
      "source": [
        "# Batch-wise data storage\n"
      ]
    },
    {
      "cell_type": "code",
      "metadata": {
        "id": "UYYvaXHvJQ6V"
      },
      "source": [
        "def pushCSVdatasetToDB(Sensor_LDR,sensor_proximity_kapasitif, sensor_proximity_Induktif,sensor_ph,sensor_mq135,Pemilah_Sampah):\n",
        "#inserting values inside the created table\n",
        "    db = sqlite3.connect(\"fga_big_data.db\")    \n",
        "    cmd = \"insert into dataset(Sensor_LDR,sensor_proximity_kapasitif, sensor_proximity_Induktif,sensor_ph,sensor_mq135,Pemilah_Sampah) values('{}','{}','{}','{}','{}','{}')\".format(Sensor_LDR,sensor_proximity_kapasitif, sensor_proximity_Induktif ,sensor_ph,sensor_mq135, Pemilah_Sampah)\n",
        "    db.execute(cmd)\n",
        "    db.commit()"
      ],
      "execution_count": 49,
      "outputs": []
    },
    {
      "cell_type": "code",
      "metadata": {
        "id": "YcK8SCDBNQN8",
        "colab": {
          "base_uri": "https://localhost:8080/"
        },
        "outputId": "05a720a9-e5f3-4782-8244-eb72639d6174"
      },
      "source": [
        "data = pd.read_csv(\"data.csv\")\n",
        "data.shape\n",
        "# data.head()"
      ],
      "execution_count": 50,
      "outputs": [
        {
          "output_type": "execute_result",
          "data": {
            "text/plain": [
              "(30, 6)"
            ]
          },
          "metadata": {
            "tags": []
          },
          "execution_count": 50
        }
      ]
    },
    {
      "cell_type": "code",
      "metadata": {
        "id": "-0OtZlHFLp3V",
        "colab": {
          "base_uri": "https://localhost:8080/",
          "height": 989
        },
        "outputId": "91ab351f-409f-4054-ae23-3d247854f0fa"
      },
      "source": [
        "data.head(30)"
      ],
      "execution_count": 51,
      "outputs": [
        {
          "output_type": "execute_result",
          "data": {
            "text/html": [
              "<div>\n",
              "<style scoped>\n",
              "    .dataframe tbody tr th:only-of-type {\n",
              "        vertical-align: middle;\n",
              "    }\n",
              "\n",
              "    .dataframe tbody tr th {\n",
              "        vertical-align: top;\n",
              "    }\n",
              "\n",
              "    .dataframe thead th {\n",
              "        text-align: right;\n",
              "    }\n",
              "</style>\n",
              "<table border=\"1\" class=\"dataframe\">\n",
              "  <thead>\n",
              "    <tr style=\"text-align: right;\">\n",
              "      <th></th>\n",
              "      <th>Sensor_LDR (X1)</th>\n",
              "      <th>sensor_proximity_kapasitif (X2)</th>\n",
              "      <th>sensor_proximity_Induktif (X3)</th>\n",
              "      <th>sensor_ph (X4)</th>\n",
              "      <th>sensor_mq135 (X5)</th>\n",
              "      <th>Pemilah_Sampah (Y)</th>\n",
              "    </tr>\n",
              "  </thead>\n",
              "  <tbody>\n",
              "    <tr>\n",
              "      <th>0</th>\n",
              "      <td>151</td>\n",
              "      <td>870</td>\n",
              "      <td>910</td>\n",
              "      <td>4</td>\n",
              "      <td>934</td>\n",
              "      <td>Produk Kreatif</td>\n",
              "    </tr>\n",
              "    <tr>\n",
              "      <th>1</th>\n",
              "      <td>637</td>\n",
              "      <td>733</td>\n",
              "      <td>202</td>\n",
              "      <td>1</td>\n",
              "      <td>0</td>\n",
              "      <td>RDF</td>\n",
              "    </tr>\n",
              "    <tr>\n",
              "      <th>2</th>\n",
              "      <td>979</td>\n",
              "      <td>713</td>\n",
              "      <td>152</td>\n",
              "      <td>5</td>\n",
              "      <td>599</td>\n",
              "      <td>Produk Daur Ulang</td>\n",
              "    </tr>\n",
              "    <tr>\n",
              "      <th>3</th>\n",
              "      <td>702</td>\n",
              "      <td>642</td>\n",
              "      <td>918</td>\n",
              "      <td>8</td>\n",
              "      <td>247</td>\n",
              "      <td>Produk Bahaya</td>\n",
              "    </tr>\n",
              "    <tr>\n",
              "      <th>4</th>\n",
              "      <td>589</td>\n",
              "      <td>583</td>\n",
              "      <td>740</td>\n",
              "      <td>2</td>\n",
              "      <td>868</td>\n",
              "      <td>Kompos</td>\n",
              "    </tr>\n",
              "    <tr>\n",
              "      <th>5</th>\n",
              "      <td>409</td>\n",
              "      <td>782</td>\n",
              "      <td>355</td>\n",
              "      <td>9</td>\n",
              "      <td>386</td>\n",
              "      <td>Biodigester</td>\n",
              "    </tr>\n",
              "    <tr>\n",
              "      <th>6</th>\n",
              "      <td>3</td>\n",
              "      <td>241</td>\n",
              "      <td>125</td>\n",
              "      <td>10</td>\n",
              "      <td>55</td>\n",
              "      <td>Kompos</td>\n",
              "    </tr>\n",
              "    <tr>\n",
              "      <th>7</th>\n",
              "      <td>36</td>\n",
              "      <td>915</td>\n",
              "      <td>678</td>\n",
              "      <td>1</td>\n",
              "      <td>398</td>\n",
              "      <td>Produk Kreatif</td>\n",
              "    </tr>\n",
              "    <tr>\n",
              "      <th>8</th>\n",
              "      <td>162</td>\n",
              "      <td>565</td>\n",
              "      <td>644</td>\n",
              "      <td>8</td>\n",
              "      <td>269</td>\n",
              "      <td>Produk Daur Ulang</td>\n",
              "    </tr>\n",
              "    <tr>\n",
              "      <th>9</th>\n",
              "      <td>732</td>\n",
              "      <td>47</td>\n",
              "      <td>662</td>\n",
              "      <td>8</td>\n",
              "      <td>92</td>\n",
              "      <td>Produk Kreatif</td>\n",
              "    </tr>\n",
              "    <tr>\n",
              "      <th>10</th>\n",
              "      <td>293</td>\n",
              "      <td>342</td>\n",
              "      <td>314</td>\n",
              "      <td>13</td>\n",
              "      <td>250</td>\n",
              "      <td>Biodigester</td>\n",
              "    </tr>\n",
              "    <tr>\n",
              "      <th>11</th>\n",
              "      <td>698</td>\n",
              "      <td>567</td>\n",
              "      <td>138</td>\n",
              "      <td>6</td>\n",
              "      <td>275</td>\n",
              "      <td>Produk Kreatif</td>\n",
              "    </tr>\n",
              "    <tr>\n",
              "      <th>12</th>\n",
              "      <td>169</td>\n",
              "      <td>165</td>\n",
              "      <td>278</td>\n",
              "      <td>3</td>\n",
              "      <td>865</td>\n",
              "      <td>Produk Daur Ulang</td>\n",
              "    </tr>\n",
              "    <tr>\n",
              "      <th>13</th>\n",
              "      <td>901</td>\n",
              "      <td>369</td>\n",
              "      <td>346</td>\n",
              "      <td>4</td>\n",
              "      <td>359</td>\n",
              "      <td>Produk Daur Ulang</td>\n",
              "    </tr>\n",
              "    <tr>\n",
              "      <th>14</th>\n",
              "      <td>602</td>\n",
              "      <td>772</td>\n",
              "      <td>316</td>\n",
              "      <td>12</td>\n",
              "      <td>76</td>\n",
              "      <td>ITF</td>\n",
              "    </tr>\n",
              "    <tr>\n",
              "      <th>15</th>\n",
              "      <td>491</td>\n",
              "      <td>822</td>\n",
              "      <td>119</td>\n",
              "      <td>9</td>\n",
              "      <td>655</td>\n",
              "      <td>Produk Bahaya</td>\n",
              "    </tr>\n",
              "    <tr>\n",
              "      <th>16</th>\n",
              "      <td>65</td>\n",
              "      <td>766</td>\n",
              "      <td>501</td>\n",
              "      <td>9</td>\n",
              "      <td>60</td>\n",
              "      <td>Kompos</td>\n",
              "    </tr>\n",
              "    <tr>\n",
              "      <th>17</th>\n",
              "      <td>206</td>\n",
              "      <td>566</td>\n",
              "      <td>38</td>\n",
              "      <td>1</td>\n",
              "      <td>397</td>\n",
              "      <td>Kompos</td>\n",
              "    </tr>\n",
              "    <tr>\n",
              "      <th>18</th>\n",
              "      <td>416</td>\n",
              "      <td>99</td>\n",
              "      <td>808</td>\n",
              "      <td>1</td>\n",
              "      <td>796</td>\n",
              "      <td>Produk Bahaya</td>\n",
              "    </tr>\n",
              "    <tr>\n",
              "      <th>19</th>\n",
              "      <td>981</td>\n",
              "      <td>362</td>\n",
              "      <td>618</td>\n",
              "      <td>13</td>\n",
              "      <td>895</td>\n",
              "      <td>RDF</td>\n",
              "    </tr>\n",
              "    <tr>\n",
              "      <th>20</th>\n",
              "      <td>118</td>\n",
              "      <td>396</td>\n",
              "      <td>488</td>\n",
              "      <td>10</td>\n",
              "      <td>811</td>\n",
              "      <td>Produk Kreatif</td>\n",
              "    </tr>\n",
              "    <tr>\n",
              "      <th>21</th>\n",
              "      <td>727</td>\n",
              "      <td>160</td>\n",
              "      <td>660</td>\n",
              "      <td>6</td>\n",
              "      <td>821</td>\n",
              "      <td>Produk Bahaya</td>\n",
              "    </tr>\n",
              "    <tr>\n",
              "      <th>22</th>\n",
              "      <td>509</td>\n",
              "      <td>972</td>\n",
              "      <td>68</td>\n",
              "      <td>3</td>\n",
              "      <td>511</td>\n",
              "      <td>Kompos</td>\n",
              "    </tr>\n",
              "    <tr>\n",
              "      <th>23</th>\n",
              "      <td>943</td>\n",
              "      <td>476</td>\n",
              "      <td>13</td>\n",
              "      <td>7</td>\n",
              "      <td>199</td>\n",
              "      <td>Biodigester</td>\n",
              "    </tr>\n",
              "    <tr>\n",
              "      <th>24</th>\n",
              "      <td>737</td>\n",
              "      <td>377</td>\n",
              "      <td>572</td>\n",
              "      <td>6</td>\n",
              "      <td>129</td>\n",
              "      <td>Kompos</td>\n",
              "    </tr>\n",
              "    <tr>\n",
              "      <th>25</th>\n",
              "      <td>640</td>\n",
              "      <td>72</td>\n",
              "      <td>292</td>\n",
              "      <td>13</td>\n",
              "      <td>200</td>\n",
              "      <td>RDF</td>\n",
              "    </tr>\n",
              "    <tr>\n",
              "      <th>26</th>\n",
              "      <td>970</td>\n",
              "      <td>258</td>\n",
              "      <td>107</td>\n",
              "      <td>7</td>\n",
              "      <td>1019</td>\n",
              "      <td>Produk Bahaya</td>\n",
              "    </tr>\n",
              "    <tr>\n",
              "      <th>27</th>\n",
              "      <td>46</td>\n",
              "      <td>425</td>\n",
              "      <td>619</td>\n",
              "      <td>5</td>\n",
              "      <td>509</td>\n",
              "      <td>Produk Bahaya</td>\n",
              "    </tr>\n",
              "    <tr>\n",
              "      <th>28</th>\n",
              "      <td>278</td>\n",
              "      <td>626</td>\n",
              "      <td>318</td>\n",
              "      <td>7</td>\n",
              "      <td>334</td>\n",
              "      <td>Produk Bahaya</td>\n",
              "    </tr>\n",
              "    <tr>\n",
              "      <th>29</th>\n",
              "      <td>501</td>\n",
              "      <td>151</td>\n",
              "      <td>122</td>\n",
              "      <td>6</td>\n",
              "      <td>1001</td>\n",
              "      <td>Produk Daur Ulang</td>\n",
              "    </tr>\n",
              "  </tbody>\n",
              "</table>\n",
              "</div>"
            ],
            "text/plain": [
              "    Sensor_LDR (X1)  ...  Pemilah_Sampah (Y)\n",
              "0               151  ...      Produk Kreatif\n",
              "1               637  ...                 RDF\n",
              "2               979  ...   Produk Daur Ulang\n",
              "3               702  ...       Produk Bahaya\n",
              "4               589  ...              Kompos\n",
              "5               409  ...         Biodigester\n",
              "6                 3  ...              Kompos\n",
              "7                36  ...      Produk Kreatif\n",
              "8               162  ...   Produk Daur Ulang\n",
              "9               732  ...      Produk Kreatif\n",
              "10              293  ...         Biodigester\n",
              "11              698  ...      Produk Kreatif\n",
              "12              169  ...   Produk Daur Ulang\n",
              "13              901  ...   Produk Daur Ulang\n",
              "14              602  ...                 ITF\n",
              "15              491  ...       Produk Bahaya\n",
              "16               65  ...              Kompos\n",
              "17              206  ...              Kompos\n",
              "18              416  ...       Produk Bahaya\n",
              "19              981  ...                 RDF\n",
              "20              118  ...      Produk Kreatif\n",
              "21              727  ...       Produk Bahaya\n",
              "22              509  ...              Kompos\n",
              "23              943  ...         Biodigester\n",
              "24              737  ...              Kompos\n",
              "25              640  ...                 RDF\n",
              "26              970  ...       Produk Bahaya\n",
              "27               46  ...       Produk Bahaya\n",
              "28              278  ...       Produk Bahaya\n",
              "29              501  ...   Produk Daur Ulang\n",
              "\n",
              "[30 rows x 6 columns]"
            ]
          },
          "metadata": {
            "tags": []
          },
          "execution_count": 51
        }
      ]
    },
    {
      "cell_type": "code",
      "metadata": {
        "id": "RIQuoYbgN3NE"
      },
      "source": [
        "pushCSVdatasetToDB(\"1023\",\"870\",\"910\",\"4\",\"934\",\"RDF\")\n"
      ],
      "execution_count": 52,
      "outputs": []
    },
    {
      "cell_type": "code",
      "metadata": {
        "id": "K0SVabEGOFMY",
        "colab": {
          "base_uri": "https://localhost:8080/",
          "height": 144
        },
        "outputId": "52505d97-a568-4d7c-f8c9-d8a2d57edf60"
      },
      "source": [
        "db = sqlite3.connect(\"fga_big_data.db\")\n",
        "qry = \"SELECT * FROM dataset\"\n",
        "df = pd.read_sql_query(qry, db)\n",
        "df.head()"
      ],
      "execution_count": 53,
      "outputs": [
        {
          "output_type": "execute_result",
          "data": {
            "text/html": [
              "<div>\n",
              "<style scoped>\n",
              "    .dataframe tbody tr th:only-of-type {\n",
              "        vertical-align: middle;\n",
              "    }\n",
              "\n",
              "    .dataframe tbody tr th {\n",
              "        vertical-align: top;\n",
              "    }\n",
              "\n",
              "    .dataframe thead th {\n",
              "        text-align: right;\n",
              "    }\n",
              "</style>\n",
              "<table border=\"1\" class=\"dataframe\">\n",
              "  <thead>\n",
              "    <tr style=\"text-align: right;\">\n",
              "      <th></th>\n",
              "      <th>sensor_LDR</th>\n",
              "      <th>sensor_proximity_kapasitif</th>\n",
              "      <th>sensor_proximity_Induktif</th>\n",
              "      <th>sensor_ph</th>\n",
              "      <th>sensor_mq135</th>\n",
              "      <th>Pemilah_Sampah</th>\n",
              "    </tr>\n",
              "  </thead>\n",
              "  <tbody>\n",
              "    <tr>\n",
              "      <th>0</th>\n",
              "      <td>151</td>\n",
              "      <td>191</td>\n",
              "      <td>142</td>\n",
              "      <td>1</td>\n",
              "      <td>281</td>\n",
              "      <td>RDF</td>\n",
              "    </tr>\n",
              "    <tr>\n",
              "      <th>1</th>\n",
              "      <td>151</td>\n",
              "      <td>191</td>\n",
              "      <td>142</td>\n",
              "      <td>1</td>\n",
              "      <td>281</td>\n",
              "      <td>RDF</td>\n",
              "    </tr>\n",
              "    <tr>\n",
              "      <th>2</th>\n",
              "      <td>1023</td>\n",
              "      <td>870</td>\n",
              "      <td>910</td>\n",
              "      <td>4</td>\n",
              "      <td>934</td>\n",
              "      <td>RDF</td>\n",
              "    </tr>\n",
              "  </tbody>\n",
              "</table>\n",
              "</div>"
            ],
            "text/plain": [
              "  sensor_LDR sensor_proximity_kapasitif  ... sensor_mq135 Pemilah_Sampah\n",
              "0        151                        191  ...          281            RDF\n",
              "1        151                        191  ...          281            RDF\n",
              "2       1023                        870  ...          934            RDF\n",
              "\n",
              "[3 rows x 6 columns]"
            ]
          },
          "metadata": {
            "tags": []
          },
          "execution_count": 53
        }
      ]
    },
    {
      "cell_type": "code",
      "metadata": {
        "id": "wX7mL6_fNSsd"
      },
      "source": [
        "# CSV_to_SQLite3 dari file dataset_csv.csv\n",
        "for i in range(0,len(data)):\n",
        "  pushCSVdatasetToDB(data.iloc[i][0],data.iloc[i][1],data.iloc[i][2],data.iloc[i][3],data.iloc[i][4],data.iloc[i][5])"
      ],
      "execution_count": 54,
      "outputs": []
    },
    {
      "cell_type": "code",
      "metadata": {
        "id": "OGbz2eLVNaPB",
        "colab": {
          "base_uri": "https://localhost:8080/",
          "height": 144
        },
        "outputId": "182c3876-46dd-459d-8467-020535089cdf"
      },
      "source": [
        "db = sqlite3.connect(\"fga_big_data.db\")\n",
        "qry = \"\"\"\n",
        "\n",
        "SELECT * FROM dataset WHERE sensor_LDR LIKE \"151%\"\n",
        "\n",
        "\"\"\"\n",
        "df = pd.read_sql_query(qry, db)\n",
        "df.head()"
      ],
      "execution_count": 55,
      "outputs": [
        {
          "output_type": "execute_result",
          "data": {
            "text/html": [
              "<div>\n",
              "<style scoped>\n",
              "    .dataframe tbody tr th:only-of-type {\n",
              "        vertical-align: middle;\n",
              "    }\n",
              "\n",
              "    .dataframe tbody tr th {\n",
              "        vertical-align: top;\n",
              "    }\n",
              "\n",
              "    .dataframe thead th {\n",
              "        text-align: right;\n",
              "    }\n",
              "</style>\n",
              "<table border=\"1\" class=\"dataframe\">\n",
              "  <thead>\n",
              "    <tr style=\"text-align: right;\">\n",
              "      <th></th>\n",
              "      <th>sensor_LDR</th>\n",
              "      <th>sensor_proximity_kapasitif</th>\n",
              "      <th>sensor_proximity_Induktif</th>\n",
              "      <th>sensor_ph</th>\n",
              "      <th>sensor_mq135</th>\n",
              "      <th>Pemilah_Sampah</th>\n",
              "    </tr>\n",
              "  </thead>\n",
              "  <tbody>\n",
              "    <tr>\n",
              "      <th>0</th>\n",
              "      <td>151</td>\n",
              "      <td>191</td>\n",
              "      <td>142</td>\n",
              "      <td>1</td>\n",
              "      <td>281</td>\n",
              "      <td>RDF</td>\n",
              "    </tr>\n",
              "    <tr>\n",
              "      <th>1</th>\n",
              "      <td>151</td>\n",
              "      <td>191</td>\n",
              "      <td>142</td>\n",
              "      <td>1</td>\n",
              "      <td>281</td>\n",
              "      <td>RDF</td>\n",
              "    </tr>\n",
              "    <tr>\n",
              "      <th>2</th>\n",
              "      <td>151</td>\n",
              "      <td>870</td>\n",
              "      <td>910</td>\n",
              "      <td>4</td>\n",
              "      <td>934</td>\n",
              "      <td>Produk Kreatif</td>\n",
              "    </tr>\n",
              "  </tbody>\n",
              "</table>\n",
              "</div>"
            ],
            "text/plain": [
              "  sensor_LDR sensor_proximity_kapasitif  ... sensor_mq135  Pemilah_Sampah\n",
              "0        151                        191  ...          281             RDF\n",
              "1        151                        191  ...          281             RDF\n",
              "2        151                        870  ...          934  Produk Kreatif\n",
              "\n",
              "[3 rows x 6 columns]"
            ]
          },
          "metadata": {
            "tags": []
          },
          "execution_count": 55
        }
      ]
    },
    {
      "cell_type": "code",
      "metadata": {
        "id": "hAYESWLGJB5_",
        "colab": {
          "base_uri": "https://localhost:8080/",
          "height": 81
        },
        "outputId": "84daf62e-7953-45e0-84b6-a64eff024d10"
      },
      "source": [
        "db = sqlite3.connect(\"fga_big_data.db\")\n",
        "qry = \"\"\"\n",
        "\n",
        "SELECT * FROM dataset WHERE sensor_LDR=\"589\"\n",
        "\n",
        "\"\"\"\n",
        "df = pd.read_sql_query(qry, db)\n",
        "df.head()"
      ],
      "execution_count": 56,
      "outputs": [
        {
          "output_type": "execute_result",
          "data": {
            "text/html": [
              "<div>\n",
              "<style scoped>\n",
              "    .dataframe tbody tr th:only-of-type {\n",
              "        vertical-align: middle;\n",
              "    }\n",
              "\n",
              "    .dataframe tbody tr th {\n",
              "        vertical-align: top;\n",
              "    }\n",
              "\n",
              "    .dataframe thead th {\n",
              "        text-align: right;\n",
              "    }\n",
              "</style>\n",
              "<table border=\"1\" class=\"dataframe\">\n",
              "  <thead>\n",
              "    <tr style=\"text-align: right;\">\n",
              "      <th></th>\n",
              "      <th>sensor_LDR</th>\n",
              "      <th>sensor_proximity_kapasitif</th>\n",
              "      <th>sensor_proximity_Induktif</th>\n",
              "      <th>sensor_ph</th>\n",
              "      <th>sensor_mq135</th>\n",
              "      <th>Pemilah_Sampah</th>\n",
              "    </tr>\n",
              "  </thead>\n",
              "  <tbody>\n",
              "    <tr>\n",
              "      <th>0</th>\n",
              "      <td>589</td>\n",
              "      <td>583</td>\n",
              "      <td>740</td>\n",
              "      <td>2</td>\n",
              "      <td>868</td>\n",
              "      <td>Kompos</td>\n",
              "    </tr>\n",
              "  </tbody>\n",
              "</table>\n",
              "</div>"
            ],
            "text/plain": [
              "  sensor_LDR sensor_proximity_kapasitif  ... sensor_mq135 Pemilah_Sampah\n",
              "0        589                        583  ...          868         Kompos\n",
              "\n",
              "[1 rows x 6 columns]"
            ]
          },
          "metadata": {
            "tags": []
          },
          "execution_count": 56
        }
      ]
    },
    {
      "cell_type": "code",
      "metadata": {
        "id": "6NJpVzkF-dLm",
        "colab": {
          "base_uri": "https://localhost:8080/",
          "height": 989
        },
        "outputId": "8c4e6da9-3764-48c5-dd7a-37344332dcef"
      },
      "source": [
        "db = sqlite3.connect(\"fga_big_data.db\")\n",
        "qry = \"\"\"\n",
        "\n",
        "SELECT * FROM dataset\n",
        "\"\"\"\n",
        "df = pd.read_sql_query(qry, db)\n",
        "df.head(30)"
      ],
      "execution_count": 57,
      "outputs": [
        {
          "output_type": "execute_result",
          "data": {
            "text/html": [
              "<div>\n",
              "<style scoped>\n",
              "    .dataframe tbody tr th:only-of-type {\n",
              "        vertical-align: middle;\n",
              "    }\n",
              "\n",
              "    .dataframe tbody tr th {\n",
              "        vertical-align: top;\n",
              "    }\n",
              "\n",
              "    .dataframe thead th {\n",
              "        text-align: right;\n",
              "    }\n",
              "</style>\n",
              "<table border=\"1\" class=\"dataframe\">\n",
              "  <thead>\n",
              "    <tr style=\"text-align: right;\">\n",
              "      <th></th>\n",
              "      <th>sensor_LDR</th>\n",
              "      <th>sensor_proximity_kapasitif</th>\n",
              "      <th>sensor_proximity_Induktif</th>\n",
              "      <th>sensor_ph</th>\n",
              "      <th>sensor_mq135</th>\n",
              "      <th>Pemilah_Sampah</th>\n",
              "    </tr>\n",
              "  </thead>\n",
              "  <tbody>\n",
              "    <tr>\n",
              "      <th>0</th>\n",
              "      <td>151</td>\n",
              "      <td>191</td>\n",
              "      <td>142</td>\n",
              "      <td>1</td>\n",
              "      <td>281</td>\n",
              "      <td>RDF</td>\n",
              "    </tr>\n",
              "    <tr>\n",
              "      <th>1</th>\n",
              "      <td>151</td>\n",
              "      <td>191</td>\n",
              "      <td>142</td>\n",
              "      <td>1</td>\n",
              "      <td>281</td>\n",
              "      <td>RDF</td>\n",
              "    </tr>\n",
              "    <tr>\n",
              "      <th>2</th>\n",
              "      <td>1023</td>\n",
              "      <td>870</td>\n",
              "      <td>910</td>\n",
              "      <td>4</td>\n",
              "      <td>934</td>\n",
              "      <td>RDF</td>\n",
              "    </tr>\n",
              "    <tr>\n",
              "      <th>3</th>\n",
              "      <td>151</td>\n",
              "      <td>870</td>\n",
              "      <td>910</td>\n",
              "      <td>4</td>\n",
              "      <td>934</td>\n",
              "      <td>Produk Kreatif</td>\n",
              "    </tr>\n",
              "    <tr>\n",
              "      <th>4</th>\n",
              "      <td>637</td>\n",
              "      <td>733</td>\n",
              "      <td>202</td>\n",
              "      <td>1</td>\n",
              "      <td>0</td>\n",
              "      <td>RDF</td>\n",
              "    </tr>\n",
              "    <tr>\n",
              "      <th>5</th>\n",
              "      <td>979</td>\n",
              "      <td>713</td>\n",
              "      <td>152</td>\n",
              "      <td>5</td>\n",
              "      <td>599</td>\n",
              "      <td>Produk Daur Ulang</td>\n",
              "    </tr>\n",
              "    <tr>\n",
              "      <th>6</th>\n",
              "      <td>702</td>\n",
              "      <td>642</td>\n",
              "      <td>918</td>\n",
              "      <td>8</td>\n",
              "      <td>247</td>\n",
              "      <td>Produk Bahaya</td>\n",
              "    </tr>\n",
              "    <tr>\n",
              "      <th>7</th>\n",
              "      <td>589</td>\n",
              "      <td>583</td>\n",
              "      <td>740</td>\n",
              "      <td>2</td>\n",
              "      <td>868</td>\n",
              "      <td>Kompos</td>\n",
              "    </tr>\n",
              "    <tr>\n",
              "      <th>8</th>\n",
              "      <td>409</td>\n",
              "      <td>782</td>\n",
              "      <td>355</td>\n",
              "      <td>9</td>\n",
              "      <td>386</td>\n",
              "      <td>Biodigester</td>\n",
              "    </tr>\n",
              "    <tr>\n",
              "      <th>9</th>\n",
              "      <td>3</td>\n",
              "      <td>241</td>\n",
              "      <td>125</td>\n",
              "      <td>10</td>\n",
              "      <td>55</td>\n",
              "      <td>Kompos</td>\n",
              "    </tr>\n",
              "    <tr>\n",
              "      <th>10</th>\n",
              "      <td>36</td>\n",
              "      <td>915</td>\n",
              "      <td>678</td>\n",
              "      <td>1</td>\n",
              "      <td>398</td>\n",
              "      <td>Produk Kreatif</td>\n",
              "    </tr>\n",
              "    <tr>\n",
              "      <th>11</th>\n",
              "      <td>162</td>\n",
              "      <td>565</td>\n",
              "      <td>644</td>\n",
              "      <td>8</td>\n",
              "      <td>269</td>\n",
              "      <td>Produk Daur Ulang</td>\n",
              "    </tr>\n",
              "    <tr>\n",
              "      <th>12</th>\n",
              "      <td>732</td>\n",
              "      <td>47</td>\n",
              "      <td>662</td>\n",
              "      <td>8</td>\n",
              "      <td>92</td>\n",
              "      <td>Produk Kreatif</td>\n",
              "    </tr>\n",
              "    <tr>\n",
              "      <th>13</th>\n",
              "      <td>293</td>\n",
              "      <td>342</td>\n",
              "      <td>314</td>\n",
              "      <td>13</td>\n",
              "      <td>250</td>\n",
              "      <td>Biodigester</td>\n",
              "    </tr>\n",
              "    <tr>\n",
              "      <th>14</th>\n",
              "      <td>698</td>\n",
              "      <td>567</td>\n",
              "      <td>138</td>\n",
              "      <td>6</td>\n",
              "      <td>275</td>\n",
              "      <td>Produk Kreatif</td>\n",
              "    </tr>\n",
              "    <tr>\n",
              "      <th>15</th>\n",
              "      <td>169</td>\n",
              "      <td>165</td>\n",
              "      <td>278</td>\n",
              "      <td>3</td>\n",
              "      <td>865</td>\n",
              "      <td>Produk Daur Ulang</td>\n",
              "    </tr>\n",
              "    <tr>\n",
              "      <th>16</th>\n",
              "      <td>901</td>\n",
              "      <td>369</td>\n",
              "      <td>346</td>\n",
              "      <td>4</td>\n",
              "      <td>359</td>\n",
              "      <td>Produk Daur Ulang</td>\n",
              "    </tr>\n",
              "    <tr>\n",
              "      <th>17</th>\n",
              "      <td>602</td>\n",
              "      <td>772</td>\n",
              "      <td>316</td>\n",
              "      <td>12</td>\n",
              "      <td>76</td>\n",
              "      <td>ITF</td>\n",
              "    </tr>\n",
              "    <tr>\n",
              "      <th>18</th>\n",
              "      <td>491</td>\n",
              "      <td>822</td>\n",
              "      <td>119</td>\n",
              "      <td>9</td>\n",
              "      <td>655</td>\n",
              "      <td>Produk Bahaya</td>\n",
              "    </tr>\n",
              "    <tr>\n",
              "      <th>19</th>\n",
              "      <td>65</td>\n",
              "      <td>766</td>\n",
              "      <td>501</td>\n",
              "      <td>9</td>\n",
              "      <td>60</td>\n",
              "      <td>Kompos</td>\n",
              "    </tr>\n",
              "    <tr>\n",
              "      <th>20</th>\n",
              "      <td>206</td>\n",
              "      <td>566</td>\n",
              "      <td>38</td>\n",
              "      <td>1</td>\n",
              "      <td>397</td>\n",
              "      <td>Kompos</td>\n",
              "    </tr>\n",
              "    <tr>\n",
              "      <th>21</th>\n",
              "      <td>416</td>\n",
              "      <td>99</td>\n",
              "      <td>808</td>\n",
              "      <td>1</td>\n",
              "      <td>796</td>\n",
              "      <td>Produk Bahaya</td>\n",
              "    </tr>\n",
              "    <tr>\n",
              "      <th>22</th>\n",
              "      <td>981</td>\n",
              "      <td>362</td>\n",
              "      <td>618</td>\n",
              "      <td>13</td>\n",
              "      <td>895</td>\n",
              "      <td>RDF</td>\n",
              "    </tr>\n",
              "    <tr>\n",
              "      <th>23</th>\n",
              "      <td>118</td>\n",
              "      <td>396</td>\n",
              "      <td>488</td>\n",
              "      <td>10</td>\n",
              "      <td>811</td>\n",
              "      <td>Produk Kreatif</td>\n",
              "    </tr>\n",
              "    <tr>\n",
              "      <th>24</th>\n",
              "      <td>727</td>\n",
              "      <td>160</td>\n",
              "      <td>660</td>\n",
              "      <td>6</td>\n",
              "      <td>821</td>\n",
              "      <td>Produk Bahaya</td>\n",
              "    </tr>\n",
              "    <tr>\n",
              "      <th>25</th>\n",
              "      <td>509</td>\n",
              "      <td>972</td>\n",
              "      <td>68</td>\n",
              "      <td>3</td>\n",
              "      <td>511</td>\n",
              "      <td>Kompos</td>\n",
              "    </tr>\n",
              "    <tr>\n",
              "      <th>26</th>\n",
              "      <td>943</td>\n",
              "      <td>476</td>\n",
              "      <td>13</td>\n",
              "      <td>7</td>\n",
              "      <td>199</td>\n",
              "      <td>Biodigester</td>\n",
              "    </tr>\n",
              "    <tr>\n",
              "      <th>27</th>\n",
              "      <td>737</td>\n",
              "      <td>377</td>\n",
              "      <td>572</td>\n",
              "      <td>6</td>\n",
              "      <td>129</td>\n",
              "      <td>Kompos</td>\n",
              "    </tr>\n",
              "    <tr>\n",
              "      <th>28</th>\n",
              "      <td>640</td>\n",
              "      <td>72</td>\n",
              "      <td>292</td>\n",
              "      <td>13</td>\n",
              "      <td>200</td>\n",
              "      <td>RDF</td>\n",
              "    </tr>\n",
              "    <tr>\n",
              "      <th>29</th>\n",
              "      <td>970</td>\n",
              "      <td>258</td>\n",
              "      <td>107</td>\n",
              "      <td>7</td>\n",
              "      <td>1019</td>\n",
              "      <td>Produk Bahaya</td>\n",
              "    </tr>\n",
              "  </tbody>\n",
              "</table>\n",
              "</div>"
            ],
            "text/plain": [
              "   sensor_LDR sensor_proximity_kapasitif  ... sensor_mq135     Pemilah_Sampah\n",
              "0         151                        191  ...          281                RDF\n",
              "1         151                        191  ...          281                RDF\n",
              "2        1023                        870  ...          934                RDF\n",
              "3         151                        870  ...          934     Produk Kreatif\n",
              "4         637                        733  ...            0                RDF\n",
              "5         979                        713  ...          599  Produk Daur Ulang\n",
              "6         702                        642  ...          247      Produk Bahaya\n",
              "7         589                        583  ...          868             Kompos\n",
              "8         409                        782  ...          386        Biodigester\n",
              "9           3                        241  ...           55             Kompos\n",
              "10         36                        915  ...          398     Produk Kreatif\n",
              "11        162                        565  ...          269  Produk Daur Ulang\n",
              "12        732                         47  ...           92     Produk Kreatif\n",
              "13        293                        342  ...          250        Biodigester\n",
              "14        698                        567  ...          275     Produk Kreatif\n",
              "15        169                        165  ...          865  Produk Daur Ulang\n",
              "16        901                        369  ...          359  Produk Daur Ulang\n",
              "17        602                        772  ...           76                ITF\n",
              "18        491                        822  ...          655      Produk Bahaya\n",
              "19         65                        766  ...           60             Kompos\n",
              "20        206                        566  ...          397             Kompos\n",
              "21        416                         99  ...          796      Produk Bahaya\n",
              "22        981                        362  ...          895                RDF\n",
              "23        118                        396  ...          811     Produk Kreatif\n",
              "24        727                        160  ...          821      Produk Bahaya\n",
              "25        509                        972  ...          511             Kompos\n",
              "26        943                        476  ...          199        Biodigester\n",
              "27        737                        377  ...          129             Kompos\n",
              "28        640                         72  ...          200                RDF\n",
              "29        970                        258  ...         1019      Produk Bahaya\n",
              "\n",
              "[30 rows x 6 columns]"
            ]
          },
          "metadata": {
            "tags": []
          },
          "execution_count": 57
        }
      ]
    },
    {
      "cell_type": "markdown",
      "metadata": {
        "id": "KohTV3k3xsfN"
      },
      "source": [
        "Semoga Sukses. Aamiin. :D\n",
        "![]( https://docs.google.com/uc?export=download&id=1vJNmuncRehLc3WCZkFYCU6rRMVTy-w0k)"
      ]
    }
  ]
}